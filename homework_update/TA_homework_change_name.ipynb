{
 "cells": [
  {
   "cell_type": "code",
   "execution_count": 4,
   "id": "fd381b51",
   "metadata": {},
   "outputs": [],
   "source": [
    "import os\n",
    "\n",
    "def create_directory_if_not_exists(directory_path):\n",
    "    \"\"\"Create a directory if it doesn't exist.\"\"\"\n",
    "    if not os.path.exists(directory_path):\n",
    "        os.makedirs(directory_path)\n",
    "\n",
    "\n",
    "\n",
    "def rename_pdfs_in_directory(directory_path, new_directory_path, prefix=\"RENAMED\"):\n",
    "    # Check if the directory exists\n",
    "    if not os.path.exists(directory_path):\n",
    "        print(f\"Directory {directory_path} does not exist.\")\n",
    "        return\n",
    "    try:\n",
    "        if len(os.listdir(directory_path)) >= 2:\n",
    "            count = 0\n",
    "            for filename in os.listdir(directory_path):\n",
    "            # Check if the file is a PDF\n",
    "                if filename.endswith('.pdf'):\n",
    "                    count += 1\n",
    "                    # Create the new file name\n",
    "                    new_filename = prefix + \"_\" + filename\n",
    "                    # Get full paths for renaming\n",
    "                    original_path = os.path.join(directory_path, filename)\n",
    "                    new_path = os.path.join(new_directory_path, new_filename)\n",
    "                    # Rename the file\n",
    "                    os.rename(original_path, new_path)\n",
    "                if count >= 2:\n",
    "                    print(f\"wrong with two pdf {directory_path}\")\n",
    "        else:\n",
    "            print(f\"wrong {directory_path}\")\n",
    "    except:\n",
    "        print(directory_path)\n",
    "    # List all files in the directory\n",
    "    "
   ]
  },
  {
   "cell_type": "code",
   "execution_count": 5,
   "id": "b4beb6d3",
   "metadata": {},
   "outputs": [
    {
     "name": "stdout",
     "output_type": "stream",
     "text": [
      "C:/Users/STAT-PC/OneDrive/桌面/hw_35798\\index.html\n"
     ]
    }
   ],
   "source": [
    "import glob\n",
    "\n",
    "file_name = 'hw_35798'\n",
    "id_file_dict = dict()\n",
    "student_name = []\n",
    "student_home_work_loc = f\"C:/Users/STAT-PC/OneDrive/桌面/{file_name}/*\"\n",
    "all_student_file = glob.glob(student_home_work_loc)\n",
    "for i in range(len(all_student_file)):\n",
    "    if i <= len(all_student_file) / 2:\n",
    "        part = \"part_1\"\n",
    "    else:\n",
    "        part = \"part_2\"\n",
    "    student_file_prefix = all_student_file[i].split(\"/\")[-1].split(\"\\\\\")[-1]\n",
    "    student_name.append(student_file_prefix)\n",
    "    loc = f\"C:/Users/STAT-PC/OneDrive/桌面/{file_name}/{part}\"\n",
    "    create_directory_if_not_exists(loc)\n",
    "    rename_pdfs_in_directory(all_student_file[i], loc, student_file_prefix)"
   ]
  },
  {
   "cell_type": "code",
   "execution_count": 6,
   "id": "a0ef78ba",
   "metadata": {},
   "outputs": [
    {
     "name": "stdout",
     "output_type": "stream",
     "text": [
      "110021133 (王䔗林)\n",
      "111072112 (鄭姸予)\n",
      "111090001 (温千儀)\n",
      "Data has been written to names.csv\n"
     ]
    }
   ],
   "source": [
    "import csv\n",
    "# Specify the CSV file name\n",
    "csv_file_name = \"names.csv\"\n",
    "\n",
    "# Open the CSV file in write mode\n",
    "with open(csv_file_name, mode='w', newline='') as file:\n",
    "    # Define the CSV writer\n",
    "    writer = csv.writer(file)\n",
    "    \n",
    "    # Write the data to the CSV file\n",
    "    for name in student_name:\n",
    "        try:\n",
    "            writer.writerow([name])\n",
    "        except:\n",
    "            print(name)\n",
    "\n",
    "print(f\"Data has been written to {csv_file_name}\")"
   ]
  },
  {
   "cell_type": "code",
   "execution_count": 7,
   "id": "d221ab77",
   "metadata": {
    "scrolled": true
   },
   "outputs": [
    {
     "data": {
      "text/plain": [
       "{}"
      ]
     },
     "execution_count": 7,
     "metadata": {},
     "output_type": "execute_result"
    }
   ],
   "source": [
    "id_file_dict"
   ]
  },
  {
   "cell_type": "code",
   "execution_count": null,
   "id": "41943dc4",
   "metadata": {},
   "outputs": [],
   "source": []
  }
 ],
 "metadata": {
  "kernelspec": {
   "display_name": "Python 3 (ipykernel)",
   "language": "python",
   "name": "python3"
  },
  "language_info": {
   "codemirror_mode": {
    "name": "ipython",
    "version": 3
   },
   "file_extension": ".py",
   "mimetype": "text/x-python",
   "name": "python",
   "nbconvert_exporter": "python",
   "pygments_lexer": "ipython3",
   "version": "3.11.4"
  }
 },
 "nbformat": 4,
 "nbformat_minor": 5
}
