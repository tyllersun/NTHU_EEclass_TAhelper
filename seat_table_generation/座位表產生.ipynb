{
  "cells": [
    {
      "cell_type": "markdown",
      "metadata": {
        "id": "view-in-github",
        "colab_type": "text"
      },
      "source": [
        "<a href=\"https://colab.research.google.com/github/tyllersun/NTHU_EEclass_TAhelper/blob/main/%E5%BA%A7%E4%BD%8D%E8%A1%A8%E7%94%A2%E7%94%9F.ipynb\" target=\"_parent\"><img src=\"https://colab.research.google.com/assets/colab-badge.svg\" alt=\"Open In Colab\"/></a>"
      ]
    },
    {
      "cell_type": "code",
      "source": [
        "import pandas as pd"
      ],
      "metadata": {
        "id": "nH4OHLyHx9Aw"
      },
      "execution_count": null,
      "outputs": []
    },
    {
      "cell_type": "code",
      "source": [
        "def extract_student_info(file_path):\n",
        "    \"\"\"\n",
        "    Extract student names and IDs from an Excel file.\n",
        "\n",
        "    Parameters:\n",
        "        file_path (str): Path to the Excel file.\n",
        "\n",
        "    Returns:\n",
        "        DataFrame: A DataFrame containing student names and IDs.\n",
        "    \"\"\"\n",
        "    # Load the Excel file, using the second row (index 1) as the header\n",
        "    df = pd.read_excel(file_path, header=1)\n",
        "\n",
        "    # Extract the columns with student names and IDs\n",
        "    students_info = df[['姓名', '帳號']]\n",
        "\n",
        "    return students_info\n",
        "\n",
        "# Extract student info and display the first few rows\n",
        "students_info = extract_student_info(\"/content/統計學二Statistics II_學員名單.xlsx\")\n",
        "students_info.head()\n"
      ],
      "metadata": {
        "id": "EeXj-Noyym0S"
      },
      "execution_count": null,
      "outputs": []
    },
    {
      "cell_type": "code",
      "source": [
        "import matplotlib.pyplot as plt\n",
        "import matplotlib.patches as patches\n",
        "from matplotlib.backends.backend_pdf import PdfPages\n",
        "import matplotlib.font_manager as fm\n",
        "import pandas as pd\n",
        "import numpy as np\n",
        "\n",
        "# 下载中文字體\n",
        "!wget -O SourceHanSansSC-Regular.otf \"https://github.com/adobe-fonts/source-han-sans/raw/release/OTF/SimplifiedChinese/SourceHanSansSC-Regular.otf\"\n",
        "prop = fm.FontProperties(fname=\"SourceHanSansSC-Regular.otf\")\n",
        "\n",
        "def create_seating_chart_pdf(students_df, width, height, aisles, seed=None, filename=\"seating_chart.pdf\"):\n",
        "    \"\"\"\n",
        "    創建教室座位表並標記走道位置，然後保存為PDF。\n",
        "\n",
        "    參數:\n",
        "      students_df (DataFrame): 學生名單的dataframe，包含\"姓名\"和\"帳號\"兩列\n",
        "      width (int): 教室的寬度（座位數）\n",
        "      height (int): 教室的高度（座位數）\n",
        "      aisles (list of int): 走道所在的列號\n",
        "      seed (int, optional): 隨機數生成器的種子，用於確保每次打亂的順序相同\n",
        "      filename (str): 保存的PDF文件名\n",
        "\n",
        "    返回:\n",
        "      None\n",
        "    \"\"\"\n",
        "    np.random.seed(seed)\n",
        "    fig_height = 210 / 25.4\n",
        "    fig_width = 297 / 25.4\n",
        "    fig, ax = plt.subplots(figsize=(fig_width, fig_height))\n",
        "\n",
        "\n",
        "    x_scale = fig_width / width\n",
        "    y_scale = fig_height / (height + 2)\n",
        "    scale = min(x_scale, y_scale)\n",
        "\n",
        "    ax.set_xlim(0, width * scale)\n",
        "    ax.set_ylim(0, (height + 2) * scale)\n",
        "    ax.axis(\"off\")\n",
        "\n",
        "\n",
        "    shuffled_students = students_df.sample(frac=1).reset_index(drop=True)\n",
        "\n",
        "    student_counter = 0\n",
        "    for row in reversed(range(height)):\n",
        "        for col in range(width):\n",
        "            if col + 1 in aisles:\n",
        "                color = 'grey'\n",
        "                student_name = ''\n",
        "                student_id = ''\n",
        "            else:\n",
        "                if student_counter < len(shuffled_students) and (col % 2 == 0):\n",
        "                    color = 'white'\n",
        "                    student_name = shuffled_students[\"姓名\"][student_counter]\n",
        "                    student_id = shuffled_students[\"帳號\"][student_counter]\n",
        "                    student_counter += 1\n",
        "                else:\n",
        "                    color = 'white'\n",
        "                    student_name = ''\n",
        "                    student_id = ''\n",
        "            rect = patches.Rectangle((col * scale, (height - row + 1) * scale), scale, scale, linewidth=1, edgecolor='black', facecolor=color)\n",
        "            ax.add_patch(rect)\n",
        "            ax.text(col * scale + scale/2, (height - row + 1.7) * scale, student_name, color='black', ha='center', va='center', fontproperties=prop, fontsize=8)\n",
        "            ax.text(col * scale + scale/2, (height - row + 1.3) * scale, student_id, color='black', ha='center', va='center', fontproperties=prop, fontsize=8)\n",
        "\n",
        "    # 畫講臺\n",
        "    podium_width = width * 0.6 * scale\n",
        "    podium_start = (width - podium_width / scale) / 2 * scale\n",
        "    rect = patches.Rectangle((podium_start, 0.5 * scale), podium_width, scale, linewidth=1, edgecolor='black', facecolor='white')\n",
        "    ax.add_patch(rect)\n",
        "    ax.text(width/2 * scale, scale, '講台', color='black', ha='center', va='center', fontproperties=prop)\n",
        "\n",
        "    with PdfPages(filename) as pdf:\n",
        "        pdf.savefig(fig, bbox_inches='tight')\n",
        "\n",
        "# 補考教室\n",
        "width = 5\n",
        "height = 7\n",
        "aisles = []\n",
        "\n",
        "# 正課教室\n",
        "width = 16\n",
        "height = 8\n",
        "aisles = [5, 12]  # 第3列和第7列是走道\n",
        "create_seating_chart_pdf(students_info, width, height, aisles, seed=429)\n"
      ],
      "metadata": {
        "id": "fdQJEHIeli-H"
      },
      "execution_count": null,
      "outputs": []
    }
  ],
  "metadata": {
    "colab": {
      "provenance": [],
      "include_colab_link": true
    },
    "kernelspec": {
      "display_name": "Python 3",
      "name": "python3"
    }
  },
  "nbformat": 4,
  "nbformat_minor": 0
}